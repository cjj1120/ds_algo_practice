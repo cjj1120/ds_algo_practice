{
 "cells": [
  {
   "attachments": {},
   "cell_type": "markdown",
   "metadata": {},
   "source": [
    "# 53. Maximum Subarray"
   ]
  },
  {
   "attachments": {},
   "cell_type": "markdown",
   "metadata": {},
   "source": [
    "Q:Look at following algorithm question, the purpose is to find the largest sum from the subarray of the array\n",
    "```\n",
    "Input: nums = [-2,1,-3,4,-1,2,1,-5,4]\n",
    "Output: 6\n",
    "Explanation: The subarray [4,-1,2,1] has the largest sum 6.\n",
    "```\n",
    "\n",
    "A:The following is a solution to finding the largest sum from the subarray of an array, also known as the maximum subarray problem:\n",
    "The solution uses a dynamic programming approach to solve the problem. The idea is to keep track of the maximum sum ending at each index, and update the current_sum and max_sum variables accordingly. If the current element is greater than the current sum plus the current element, we start a new subarray with the current element as its only element. If the current sum plus the current element is greater than the current element, we extend the current subarray with the current element. In either case, we update the max_sum with the maximum of itself and the current sum, so that it always contains the maximum sum seen so far."
   ]
  },
  {
   "cell_type": "code",
   "execution_count": 3,
   "metadata": {},
   "outputs": [
    {
     "name": "stdout",
     "output_type": "stream",
     "text": [
      "6\n"
     ]
    }
   ],
   "source": [
    "def maxSubArray(nums):\n",
    "    max_sum = nums[0]\n",
    "    current_sum = nums[0]\n",
    "    for i in range(1, len(nums)):\n",
    "        current_sum = max(nums[i], current_sum + nums[i]) # check if current_num > current_sum \n",
    "        max_sum = max(max_sum, current_sum) # check if current_sum > max_sum \n",
    "    return max_sum\n",
    "\n",
    "nums = [-2,1,-3,4,-1,2,1,-5,4]\n",
    "print(maxSubArray(nums)) # Output: 6\n"
   ]
  },
  {
   "attachments": {},
   "cell_type": "markdown",
   "metadata": {},
   "source": [
    "Q: How to find the actual subarray?\n",
    "\n",
    "A: To find the actual subarray that has the largest sum, we can keep track of the start and end indices of the subarray with the largest sum as we traverse the nums array. Here's an example:\n",
    "\n",
    "In this example, start and end keep track of the start and end indices of the subarray with the largest sum, and s keeps track of the start index of the current subarray. Whenever the current sum becomes greater than the maximum sum seen so far, we update start, end, and max_sum to reflect the new maximum subarray."
   ]
  },
  {
   "cell_type": "code",
   "execution_count": 4,
   "metadata": {},
   "outputs": [
    {
     "name": "stdout",
     "output_type": "stream",
     "text": [
      "(3, 6, 6)\n"
     ]
    }
   ],
   "source": [
    "def maxSubArray(nums):\n",
    "    max_sum = nums[0]\n",
    "    current_sum = nums[0]\n",
    "    start = end = s = 0\n",
    "    for i in range(1, len(nums)):\n",
    "        if current_sum > 0:\n",
    "            current_sum += nums[i]\n",
    "        else:\n",
    "            current_sum = nums[i]\n",
    "            s = i\n",
    "        if current_sum > max_sum:\n",
    "            max_sum = current_sum\n",
    "            start = s\n",
    "            end = i\n",
    "    return (start, end, max_sum)\n",
    "\n",
    "nums = [-2,1,-3,4,-1,2,1,-5,4]\n",
    "print(maxSubArray(nums)) # Output: (3, 6, 6)\n"
   ]
  },
  {
   "cell_type": "code",
   "execution_count": null,
   "metadata": {},
   "outputs": [],
   "source": []
  }
 ],
 "metadata": {
  "kernelspec": {
   "display_name": "py38-tapway",
   "language": "python",
   "name": "python3"
  },
  "language_info": {
   "codemirror_mode": {
    "name": "ipython",
    "version": 3
   },
   "file_extension": ".py",
   "mimetype": "text/x-python",
   "name": "python",
   "nbconvert_exporter": "python",
   "pygments_lexer": "ipython3",
   "version": "3.8.13"
  },
  "orig_nbformat": 4,
  "vscode": {
   "interpreter": {
    "hash": "72b53a4f99a6bbd13af63385d2cd3d66cb0fcab880deb1b76830e744df0b24f7"
   }
  }
 },
 "nbformat": 4,
 "nbformat_minor": 2
}
