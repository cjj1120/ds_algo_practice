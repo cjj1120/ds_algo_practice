{
 "cells": [
  {
   "cell_type": "markdown",
   "metadata": {},
   "source": [
    "# 53. Maximum Subarray"
   ]
  },
  {
   "cell_type": "markdown",
   "metadata": {},
   "source": [
    "# Brute force approach \n",
    "https://patrickjackson.dev/kadanes-algorithm/  \n",
    "https://algodaily.com/lessons/kadanes-algorithm-explained/python"
   ]
  },
  {
   "cell_type": "code",
   "execution_count": 4,
   "metadata": {
    "collapsed": true
   },
   "outputs": [
    {
     "name": "stdout",
     "output_type": "stream",
     "text": [
      "i:  0\n",
      "0\n",
      "1\n",
      "2\n",
      "3\n",
      "4\n",
      "5\n",
      "6\n",
      "\n",
      "\n",
      "i:  1\n",
      "1\n",
      "2\n",
      "3\n",
      "4\n",
      "5\n",
      "6\n",
      "\n",
      "\n",
      "i:  2\n",
      "2\n",
      "3\n",
      "4\n",
      "5\n",
      "6\n",
      "\n",
      "\n",
      "i:  3\n",
      "3\n",
      "4\n",
      "5\n",
      "6\n",
      "\n",
      "\n",
      "i:  4\n",
      "4\n",
      "5\n",
      "6\n",
      "\n",
      "\n",
      "i:  5\n",
      "5\n",
      "6\n",
      "\n",
      "\n",
      "i:  6\n",
      "6\n",
      "\n",
      "\n",
      "11\n"
     ]
    }
   ],
   "source": [
    "from sys import maxsize\n",
    "\n",
    "def solveMaxSubArrayProblem(input):\n",
    "    n = len(input)\n",
    "    globalMaxSum = -maxsize - 1\n",
    "\n",
    "    for i in range(0, n):\n",
    "        subArraySum= 0\n",
    "        print(\"i: \", i)\n",
    "        for j in range(i, n):\n",
    "            print(j)\n",
    "            subArraySum= subArraySum+ input[j]\n",
    "            if(subArraySum> globalMaxSum):\n",
    "                globalMaxSum = subArraySum\n",
    "        print('\\n')\n",
    "    return globalMaxSum\n",
    "\n",
    "if __name__ == \"__main__\":\n",
    "    input = [1, -2, 5, -3, 4, -1, 6]\n",
    "    result = solveMaxSubArrayProblem(input)\n",
    "    print(result)"
   ]
  },
  {
   "cell_type": "markdown",
   "metadata": {},
   "source": [
    "Q:Look at following algorithm question, the purpose is to find the largest sum from the subarray of the array\n",
    "```\n",
    "Input: nums = [-2,1,-3,4,-1,2,1,-5,4]\n",
    "Output: 6\n",
    "Explanation: The subarray [4,-1,2,1] has the largest sum 6.\n",
    "```\n",
    "\n",
    "A:The following is a solution to finding the largest sum from the subarray of an array, also known as the maximum subarray problem:\n",
    "The solution uses a dynamic programming approach to solve the problem. The idea is to keep track of the maximum sum ending at each index, and update the current_sum and max_sum variables accordingly. If the current element is greater than the current sum plus the current element, we start a new subarray with the current element as its only element. If the current sum plus the current element is greater than the current element, we extend the current subarray with the current element. In either case, we update the max_sum with the maximum of itself and the current sum, so that it always contains the maximum sum seen so far."
   ]
  },
  {
   "cell_type": "code",
   "execution_count": 3,
   "metadata": {},
   "outputs": [
    {
     "name": "stdout",
     "output_type": "stream",
     "text": [
      "6\n"
     ]
    }
   ],
   "source": [
    "def maxSubArray(nums):\n",
    "    max_sum = nums[0]\n",
    "    current_sum = nums[0]\n",
    "    for i in range(1, len(nums)):\n",
    "        current_sum = max(nums[i], current_sum + nums[i]) # check if current_num > current_sum \n",
    "        max_sum = max(max_sum, current_sum) # check if current_sum > max_sum \n",
    "    return max_sum\n",
    "\n",
    "nums = [-2,1,-3,4,-1,2,1,-5,4]\n",
    "print(maxSubArray(nums)) # Output: 6\n"
   ]
  },
  {
   "cell_type": "markdown",
   "metadata": {},
   "source": [
    "Q: How to find the actual subarray?\n",
    "\n",
    "A: To find the actual subarray that has the largest sum, we can keep track of the start and end indices of the subarray with the largest sum as we traverse the nums array. Here's an example:\n",
    "\n",
    "In this example, start and end keep track of the start and end indices of the subarray with the largest sum, and s keeps track of the start index of the current subarray. Whenever the current sum becomes greater than the maximum sum seen so far, we update start, end, and max_sum to reflect the new maximum subarray."
   ]
  },
  {
   "cell_type": "code",
   "execution_count": 4,
   "metadata": {},
   "outputs": [
    {
     "name": "stdout",
     "output_type": "stream",
     "text": [
      "(3, 6, 6)\n"
     ]
    }
   ],
   "source": [
    "def maxSubArray(nums):\n",
    "    max_sum = nums[0]\n",
    "    current_sum = nums[0]\n",
    "    start = end = s = 0\n",
    "    for i in range(1, len(nums)):\n",
    "        if current_sum > 0:\n",
    "            current_sum += nums[i]\n",
    "        else:\n",
    "            current_sum = nums[i]\n",
    "            s = i\n",
    "        if current_sum > max_sum:\n",
    "            max_sum = current_sum\n",
    "            start = s\n",
    "            end = i\n",
    "    return (start, end, max_sum)\n",
    "\n",
    "nums = [-2,1,-3,4,-1,2,1,-5,4]\n",
    "print(maxSubArray(nums)) # Output: (3, 6, 6)\n"
   ]
  },
  {
   "cell_type": "code",
   "execution_count": 5,
   "metadata": {},
   "outputs": [
    {
     "name": "stdout",
     "output_type": "stream",
     "text": [
      "# conda environments:\r\n",
      "#\r\n",
      "base                     /Users/jiong/opt/miniconda3\r\n",
      "py310                    /Users/jiong/opt/miniconda3/envs/py310\r\n",
      "py38                     /Users/jiong/opt/miniconda3/envs/py38\r\n",
      "py38-fni                 /Users/jiong/opt/miniconda3/envs/py38-fni\r\n",
      "py38-nlp                 /Users/jiong/opt/miniconda3/envs/py38-nlp\r\n",
      "py38-tapway           *  /Users/jiong/opt/miniconda3/envs/py38-tapway\r\n",
      "\r\n"
     ]
    }
   ],
   "source": [
    "! conda info --envs"
   ]
  },
  {
   "cell_type": "code",
   "execution_count": null,
   "metadata": {},
   "outputs": [],
   "source": []
  },
  {
   "cell_type": "markdown",
   "metadata": {},
   "source": [
    "# 283. Move Zeroes\n",
    "I thought this is really easy at first, my intuition instantly lead me to create another array... Then one of the condition is as following: \n",
    "`Note that you must do this in-place without making a copy of the array.`\n"
   ]
  },
  {
   "cell_type": "code",
   "execution_count": 8,
   "metadata": {},
   "outputs": [],
   "source": [
    "# my first solution that didn't work: \n",
    "from typing import List\n",
    "class Solution:\n",
    "    def moveZeroes(self, nums: List[int]) -> None:\n",
    "        \"\"\"\n",
    "        Do not return anything, modify nums in-place instead.\n",
    "        \"\"\"\n",
    "        if len(nums) <= 1: \n",
    "            return nums \n",
    "        \n",
    "        j = 0 \n",
    "        for i in range(len(nums)):            \n",
    "            if nums[i] == 0: \n",
    "                del nums[i]\n",
    "                nums.append(0)\n",
    "                i-=1\n",
    "            print(nums)"
   ]
  },
  {
   "cell_type": "markdown",
   "metadata": {},
   "source": [
    "# solution \n",
    "[GfG reference](https://www.geeksforgeeks.org/move-zeroes-end-array/)  \n",
    "I thought this wouldn't work at first...Then it worked and I think about it and realized how elegant this simple solution is! J is basically the index of the last `0`-element of the list, amazing!      "
   ]
  },
  {
   "cell_type": "code",
   "execution_count": null,
   "metadata": {},
   "outputs": [],
   "source": [
    "# Python Program to move all zeros to the end\n",
    "A = [5, 6, 0, 4, 6, 0, 9, 0, 8]\n",
    "n = len(A)\n",
    "j = 0 # ME: j is always pointing to the index of element 0\n",
    "for i in range(n):\n",
    "    if A[i] != 0:\n",
    "        A[j], A[i] = A[i], A[j]  # Partitioning the array\n",
    "        j += 1 # ME: after swapping, J will point to the new index of 0 \n",
    "print(A)  # Print the array\n",
    "  \n",
    "# This code is contributed by Tapesh(tapeshdua420)"
   ]
  }
 ],
 "metadata": {
  "kernelspec": {
   "display_name": "Python 3 (ipykernel)",
   "language": "python",
   "name": "python3"
  },
  "language_info": {
   "codemirror_mode": {
    "name": "ipython",
    "version": 3
   },
   "file_extension": ".py",
   "mimetype": "text/x-python",
   "name": "python",
   "nbconvert_exporter": "python",
   "pygments_lexer": "ipython3",
   "version": "3.8.13"
  },
  "vscode": {
   "interpreter": {
    "hash": "72b53a4f99a6bbd13af63385d2cd3d66cb0fcab880deb1b76830e744df0b24f7"
   }
  }
 },
 "nbformat": 4,
 "nbformat_minor": 2
}
